{
 "cells": [
  {
   "cell_type": "code",
   "execution_count": 1,
   "id": "a3261806",
   "metadata": {},
   "outputs": [],
   "source": [
    "import tensorflow as tf"
   ]
  },
  {
   "cell_type": "code",
   "execution_count": 2,
   "id": "e8b17e29",
   "metadata": {},
   "outputs": [],
   "source": [
    "import matplotlib.pyplot as plt"
   ]
  },
  {
   "cell_type": "code",
   "execution_count": 3,
   "id": "9cd37b87",
   "metadata": {},
   "outputs": [],
   "source": [
    "import numpy as np"
   ]
  },
  {
   "cell_type": "code",
   "execution_count": 4,
   "id": "8a66a739",
   "metadata": {},
   "outputs": [],
   "source": [
    "mnist = tf.keras.datasets.mnist #Given dataset in tensorflow, handwriten 28x28 images of digits"
   ]
  },
  {
   "cell_type": "code",
   "execution_count": 5,
   "id": "c836b058",
   "metadata": {},
   "outputs": [],
   "source": [
    "#Prepare to split the data into training and testing sets\n",
    "#60,000 training : 10,000 test\n",
    "#x contains the images, y contains the labels\n",
    "(x_train, y_train),(x_test, y_test) = mnist.load_data()"
   ]
  },
  {
   "cell_type": "code",
   "execution_count": 6,
   "id": "7dee302e",
   "metadata": {},
   "outputs": [
    {
     "data": {
      "text/plain": [
       "<matplotlib.image.AxesImage at 0x1881f397f40>"
      ]
     },
     "execution_count": 6,
     "metadata": {},
     "output_type": "execute_result"
    },
    {
     "data": {
      "image/png": "[encoded data removed]",
      "text/plain": [
       "<Figure size 432x288 with 1 Axes>"
      ]
     },
     "metadata": {
      "needs_background": "light"
     },
     "output_type": "display_data"
    }
   ],
   "source": [
    "plt.imshow(x_train[0], cmap = plt.cm.binary) #Example Image"
   ]
  },
  {
   "cell_type": "code",
   "execution_count": 7,
   "id": "d7529d17",
   "metadata": {},
   "outputs": [
    {
     "data": {
      "text/plain": [
       "<matplotlib.image.AxesImage at 0x1881bf25370>"
      ]
     },
     "execution_count": 7,
     "metadata": {},
     "output_type": "execute_result"
    },
    {
     "data": {
      "image/png": "[encoded data removed]",
      "text/plain": [
       "<Figure size 432x288 with 1 Axes>"
      ]
     },
     "metadata": {
      "needs_background": "light"
     },
     "output_type": "display_data"
    }
   ],
   "source": [
    "#Normalizing the data (could also divide by 255)\n",
    "x_train = tf.keras.utils.normalize(x_train, axis=1)\n",
    "x_test = tf.keras.utils.normalize(x_test, axis=1)\n",
    "plt.imshow(x_train[0], cmap = plt.cm.binary) #Normalized Image"
   ]
  },
  {
   "cell_type": "code",
   "execution_count": 8,
   "id": "8531afa1",
   "metadata": {},
   "outputs": [],
   "source": [
    "#Resize data to be used\n",
    "imageSize = 28\n",
    "x_train_resized = np.array(x_train).reshape(-1, imageSize, imageSize, 1) #add an additional dimension\n",
    "x_test_resized = np.array(x_test).reshape(-1, imageSize, imageSize, 1) #add an additional dimension"
   ]
  },
  {
   "cell_type": "code",
   "execution_count": 9,
   "id": "5cb6319c",
   "metadata": {},
   "outputs": [],
   "source": [
    "from tensorflow.keras.models import Sequential\n",
    "from tensorflow.keras.layers import Dense, Dropout, Activation, Flatten, Conv2D, MaxPooling2D"
   ]
  },
  {
   "cell_type": "code",
   "execution_count": 10,
   "id": "e994b189",
   "metadata": {
    "scrolled": true
   },
   "outputs": [],
   "source": [
    "#Create Neural Network\n",
    "model = tf.keras.Sequential()\n",
    "\n",
    "#First Layer\n",
    "model.add(Conv2D(64, (3,3), input_shape = x_train_resized.shape[1:])) #input layer size\n",
    "model.add(Activation(\"relu\")) #activation function, relu makes it nonlinear\n",
    "model.add(MaxPooling2D(pool_size = (2,2)))\n",
    "\n",
    "#Second Layer\n",
    "model.add(Conv2D(64, (3,3))) #input layer size\n",
    "model.add(Activation(\"relu\")) #activation function, relu makes it nonlinear\n",
    "model.add(MaxPooling2D(pool_size = (2,2)))\n",
    "\n",
    "#Third Layer\n",
    "model.add(Conv2D(64, (3,3))) #input layer size\n",
    "model.add(Activation(\"relu\")) #activation function, relu makes it nonlinear\n",
    "model.add(MaxPooling2D(pool_size = (2,2)))\n",
    "\n",
    "#First Connected Layer\n",
    "model.add(Flatten()) #Turns 2D array to 1D value\n",
    "model.add(Dense(64)) #64 neurons connected to previous layer\n",
    "model.add(Activation(\"relu\"))\n",
    "\n",
    "#Second Connected Layer\n",
    "model.add(Dense(32)) #32 neurons\n",
    "model.add(Activation(\"relu\"))\n",
    "\n",
    "#Final Connected Layer\n",
    "model.add(Dense(10)) #10 neurons for digits\n",
    "model.add(Activation(\"softmax\")) #softmax provides class probabilities\n",
    "##To make it a binary classification, change the number of neurons to 1 and change the activation to sigmoid\n",
    "#model.summary to show layer info"
   ]
  },
  {
   "cell_type": "code",
   "execution_count": 11,
   "id": "138b5fe7",
   "metadata": {},
   "outputs": [],
   "source": [
    "model.compile(loss = \"sparse_categorical_crossentropy\", optimizer = \"adam\", metrics = ['accuracy'])"
   ]
  },
  {
   "cell_type": "code",
   "execution_count": 12,
   "id": "a0b264f0",
   "metadata": {},
   "outputs": [
    {
     "name": "stdout",
     "output_type": "stream",
     "text": [
      "Epoch 1/5\n",
      "1313/1313 [==============================] - 25s 19ms/step - loss: 0.3533 - accuracy: 0.8880 - val_loss: 0.1314 - val_accuracy: 0.9588\n",
      "Epoch 2/5\n",
      "1313/1313 [==============================] - 24s 18ms/step - loss: 0.1122 - accuracy: 0.9660 - val_loss: 0.1034 - val_accuracy: 0.9693\n",
      "Epoch 3/5\n",
      "1313/1313 [==============================] - 24s 19ms/step - loss: 0.0807 - accuracy: 0.9752 - val_loss: 0.0822 - val_accuracy: 0.9766\n",
      "Epoch 4/5\n",
      "1313/1313 [==============================] - 24s 19ms/step - loss: 0.0623 - accuracy: 0.9809 - val_loss: 0.0753 - val_accuracy: 0.9768\n",
      "Epoch 5/5\n",
      "1313/1313 [==============================] - 24s 19ms/step - loss: 0.0484 - accuracy: 0.9841 - val_loss: 0.0730 - val_accuracy: 0.9784\n"
     ]
    },
    {
     "data": {
      "text/plain": [
       "<keras.callbacks.History at 0x1881c38cd00>"
      ]
     },
     "execution_count": 12,
     "metadata": {},
     "output_type": "execute_result"
    }
   ],
   "source": [
    "model.fit(x_train_resized, y_train, epochs = 5, validation_split = 0.3) #Training"
   ]
  },
  {
   "cell_type": "code",
   "execution_count": 13,
   "id": "c2df4aa7",
   "metadata": {},
   "outputs": [
    {
     "name": "stdout",
     "output_type": "stream",
     "text": [
      "313/313 [==============================] - 2s 5ms/step - loss: 0.0668 - accuracy: 0.9792\n",
      "Test loss on validation dataset:  0.06678814440965652\n",
      "Test accuracy on validation dataset:  0.979200005531311\n"
     ]
    }
   ],
   "source": [
    "test_loss, test_acc = model.evaluate(x_test_resized, y_test)\n",
    "print(\"Test loss on validation dataset: \", test_loss)\n",
    "print(\"Test accuracy on validation dataset: \",test_acc)"
   ]
  },
  {
   "cell_type": "code",
   "execution_count": 14,
   "id": "eb1d18f4",
   "metadata": {},
   "outputs": [],
   "source": [
    "#Predict using test data\n",
    "predictions = model.predict([x_test_resized])"
   ]
  },
  {
   "cell_type": "code",
   "execution_count": 18,
   "id": "a1b60f35",
   "metadata": {},
   "outputs": [
    {
     "name": "stdout",
     "output_type": "stream",
     "text": [
      "Predicted digit for first image:  7\n"
     ]
    },
    {
     "data": {
      "text/plain": [
       "<matplotlib.image.AxesImage at 0x1881d99b1f0>"
      ]
     },
     "execution_count": 18,
     "metadata": {},
     "output_type": "execute_result"
    },
    {
     "data": {
      "image/png": "[encoded data removed]",
      "text/plain": [
       "<Figure size 432x288 with 1 Axes>"
      ]
     },
     "metadata": {
      "needs_background": "light"
     },
     "output_type": "display_data"
    }
   ],
   "source": [
    "#Using the first image as an example, print the most likely digit based on probabilities\n",
    "print(\"Predicted digit for first image: \", np.argmax(predictions[0]))\n",
    "plt.imshow(x_test[0], cmap = plt.cm.binary)"
   ]
  },
  {
   "cell_type": "code",
   "execution_count": 19,
   "id": "d29d32f8",
   "metadata": {},
   "outputs": [],
   "source": [
    "import cv2"
   ]
  },
  {
   "cell_type": "code",
   "execution_count": 20,
   "id": "bc313459",
   "metadata": {},
   "outputs": [],
   "source": [
    "image = cv2.imread('four.png')"
   ]
  },
  {
   "cell_type": "code",
   "execution_count": 22,
   "id": "14deb45b",
   "metadata": {},
   "outputs": [
    {
     "data": {
      "text/plain": [
       "<matplotlib.image.AxesImage at 0x1881ec4d670>"
      ]
     },
     "execution_count": 22,
     "metadata": {},
     "output_type": "execute_result"
    },
    {
     "data": {
      "image/png": "[encoded data removed]",
      "text/plain": [
       "<Figure size 432x288 with 1 Axes>"
      ]
     },
     "metadata": {
      "needs_background": "light"
     },
     "output_type": "display_data"
    }
   ],
   "source": [
    "plt.imshow(image) #Image I handrew in paint before resizing"
   ]
  },
  {
   "cell_type": "code",
   "execution_count": 23,
   "id": "ef2e3ba5",
   "metadata": {},
   "outputs": [],
   "source": [
    "gray = cv2.cvtColor(image, cv2.COLOR_BGR2GRAY) #convert from color image\n",
    "image_resized = cv2.resize(gray, (28,28), interpolation = cv2.INTER_AREA) #resize image"
   ]
  },
  {
   "cell_type": "code",
   "execution_count": 26,
   "id": "2fd1aca0",
   "metadata": {},
   "outputs": [
    {
     "data": {
      "text/plain": [
       "<matplotlib.image.AxesImage at 0x1881ed7ec70>"
      ]
     },
     "execution_count": 26,
     "metadata": {},
     "output_type": "execute_result"
    },
    {
     "data": {
      "image/png": "[encoded data removed]",
      "text/plain": [
       "<Figure size 432x288 with 1 Axes>"
      ]
     },
     "metadata": {
      "needs_background": "light"
     },
     "output_type": "display_data"
    }
   ],
   "source": [
    "plt.imshow(image_resized, cmap = plt.cm.binary) #Image after resizing"
   ]
  },
  {
   "cell_type": "code",
   "execution_count": 27,
   "id": "023bcadb",
   "metadata": {},
   "outputs": [],
   "source": [
    "#Prepare the image to be used in the CNN\n",
    "pred_image = tf.keras.utils.normalize(image_resized, axis = 1) #normalization\n",
    "pred_image = np.array(pred_image).reshape(-1, imageSize, imageSize, 1) #add dimension"
   ]
  },
  {
   "cell_type": "code",
   "execution_count": 28,
   "id": "10bf06f8",
   "metadata": {},
   "outputs": [
    {
     "name": "stdout",
     "output_type": "stream",
     "text": [
      "Predicted digit for drawn image:  4\n"
     ]
    }
   ],
   "source": [
    "#Predict new image\n",
    "predictDigit = model.predict(pred_image)\n",
    "print(\"Predicted digit for drawn image: \", np.argmax(predictDigit))"
   ]
  },
  {
   "cell_type": "code",
   "execution_count": null,
   "id": "5c9e39d4",
   "metadata": {},
   "outputs": [],
   "source": []
  }
 ],
 "metadata": {
  "kernelspec": {
   "display_name": "Python 3 (ipykernel)",
   "language": "python",
   "name": "python3"
  },
  "language_info": {
   "codemirror_mode": {
    "name": "ipython",
    "version": 3
   },
   "file_extension": ".py",
   "mimetype": "text/x-python",
   "name": "python",
   "nbconvert_exporter": "python",
   "pygments_lexer": "ipython3",
   "version": "3.9.7"
  }
 },
 "nbformat": 4,
 "nbformat_minor": 5
}
